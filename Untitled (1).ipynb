{
 "cells": [
  {
   "cell_type": "code",
   "execution_count": 3,
   "metadata": {},
   "outputs": [
    {
     "name": "stdout",
     "output_type": "stream",
     "text": [
      "{'0': ['05', '15', '19', '22', '30', '42', '31'], '1': ['03', '23', '27', '28', '37', '48', '08'], '2': ['03', '16', '17', '30', '33', '37', '29'], '3': ['02', '10', '12', '20', '26', '34', '28'], '4': ['14', '16', '19', '28', '32', '49', '01'], '5': ['06', '24', '35', '41', '46', '49', '09'], '6': ['01', '04', '09', '14', '15', '49', '32'], '7': ['02', '03', '13', '20', '28', '38', '40'], '8': ['09', '12', '23', '33', '39', '45', '24'], '9': ['03', '28', '29', '35', '41', '47', '48']}\n"
     ]
    }
   ],
   "source": [
    "from bs4 import BeautifulSoup\n",
    "import requests\n",
    "\n",
    "winning_Numbers_Sort_lotto = ['Lotto649Control_history_dlQuery_No1_','Lotto649Control_history_dlQuery_No2_','Lotto649Control_history_dlQuery_No3_','Lotto649Control_history_dlQuery_No4_','Lotto649Control_history_dlQuery_No5_','Lotto649Control_history_dlQuery_No6_','Lotto649Control_history_dlQuery_SNo_']\n",
    "\n",
    "def search_winning_numbers(css_class):\n",
    "    global winning_Numbers_Sort_lotto\n",
    "    if(css_class != None):\n",
    "        for i in range(len(winning_Numbers_Sort_lotto )):\n",
    "            if winning_Numbers_Sort_lotto [i] in css_class:\n",
    "                return css_class    \n",
    "def parse_tw_lotto_html(data_Info,number_count):  \n",
    "    data_Info_List = []\n",
    "    data_Info_Dict = {}\n",
    "    tmp_index = 0\n",
    "    for index  in range(len(data_Info)) :\n",
    "        if (index == 0):\n",
    "            data_Info_List.append(data_Info[index].text)  \n",
    "        else:\n",
    "            if(index % number_count != 0):\n",
    "                data_Info_List.append(data_Info[index].text)\n",
    "            else:\n",
    "                data_Info_Dict[str(tmp_index)] = list(data_Info_List)\n",
    "                data_Info_List= []\n",
    "                data_Info_List.append(data_Info[index].text)\n",
    "                tmp_index = tmp_index+1\n",
    "        data_Info_Dict[str(tmp_index)] = list(data_Info_List)\n",
    "    return data_Info_List,data_Info_Dict            \n",
    "head_Html_lotto='http://www.taiwanlottery.com.tw/Lotto/Lotto649/history.aspx'\n",
    "res = requests.get(head_Html_lotto, timeout=30)\n",
    "soup = BeautifulSoup(res.text,'lxml')\n",
    "header_Info = soup.find_all(id=search_winning_numbers)\n",
    "data_Info_List,data_Info_Dict  = parse_tw_lotto_html(header_Info,7)    \n",
    "print(data_Info_Dict)"
   ]
  },
  {
   "cell_type": "code",
   "execution_count": null,
   "metadata": {},
   "outputs": [],
   "source": []
  }
 ],
 "metadata": {
  "kernelspec": {
   "display_name": "Python 3",
   "language": "python",
   "name": "python3"
  },
  "language_info": {
   "codemirror_mode": {
    "name": "ipython",
    "version": 3
   },
   "file_extension": ".py",
   "mimetype": "text/x-python",
   "name": "python",
   "nbconvert_exporter": "python",
   "pygments_lexer": "ipython3",
   "version": "3.7.3"
  }
 },
 "nbformat": 4,
 "nbformat_minor": 2
}
